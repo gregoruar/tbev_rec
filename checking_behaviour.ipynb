{
 "cells": [
  {
   "cell_type": "code",
   "execution_count": 59,
   "metadata": {},
   "outputs": [],
   "source": [
    "import os\n",
    "import pywinauto as pw\n",
    "import time\n",
    "from random import shuffle"
   ]
  },
  {
   "cell_type": "markdown",
   "metadata": {},
   "source": [
    "## Reshuffling procedure"
   ]
  },
  {
   "cell_type": "code",
   "execution_count": 63,
   "metadata": {},
   "outputs": [],
   "source": [
    "# specifying file path\n",
    "\n",
    "reading_path = \"C:/Users/sukhorukov/Work/Work/Verified_groupscan_m.SSE\"\n",
    "writing_path = \"C:/Users/sukhorukov/Work/Work/reshuffled_alignment.SSE\"\n",
    "\n",
    "# saving contents of sse-file to list\n",
    "\n",
    "with open(os.path.join(path_to_file)) as file:\n",
    "    lines = file.readlines()\n",
    "\n",
    "# preparing list of reshuffled indeces\n",
    "# length of the alignments is stored on the 19-th line of the header of sse-file\n",
    "\n",
    "list_for_shuffle = [x for x in range(int(lines[18]))]\n",
    "shuffle(list_for_shuffle)\n",
    "\n",
    "# creating global variable, which will be useful later\n",
    "\n",
    "alignment_length = lines[18]\n",
    "\n",
    "# selecting sequences from sse-file and reordering them according to the list\n",
    "# and writing everything to the reordered sse-file simultaneously\n",
    "\n",
    "reordered_sse = []\n",
    "for line in lines:\n",
    "    if line.startswith('\\\\0\\\\'):\n",
    "        line = line[3:-4]\n",
    "        list_for_reindex_ = list(line)\n",
    "        line = '\\\\0\\\\'\n",
    "        for i in list_for_shuffle:\n",
    "            line += list_for_reindex_[i]\n",
    "        line += '\\\\0\\\\\\n'\n",
    "        reordered_sse.append(line)\n",
    "    else:\n",
    "        reordered_sse.append(line)\n",
    "                \n",
    "# creation of file for the reshuffled alignment            \n",
    "    \n",
    "with open(os.path.join(writing_path), \"w\") as file:\n",
    "    for i in reordered_sse:\n",
    "        file.write(i)"
   ]
  },
  {
   "cell_type": "markdown",
   "metadata": {},
   "source": [
    "## Working with SSE"
   ]
  },
  {
   "cell_type": "code",
   "execution_count": 98,
   "metadata": {},
   "outputs": [],
   "source": [
    "window_size = \"250\" #input(\"Put in window size:\")\n",
    "step_size = \"100\" #input(\"Put in step size:\")\n",
    "#iterations_ = 2 #int(input(\"Put in number of iterations:\"))\n",
    "reading_path =  \"C:/Users/sukhorukov/Work/Work/reshuffled_alignment.SSE\"\n",
    "app_path = \"C:/Program Files (x86)/SSE/PB10 SSE_v1.3.exe\"\n",
    "writing_path = \"C:/Users/sukhorukov/Work/Work/for_scan/\"\n",
    "alignment_length = \"300\"\n",
    "sleep = 3\n",
    "\n",
    "# for i in range(iterations_):\n",
    "#     rs.reshuffling_sse(file_path_, \"Verified_groupscan_m.sse\")\n",
    "#     ctr.controller(file_path_, file_name_, app_path_, saving_path_, window_s_, step_s_)"
   ]
  },
  {
   "cell_type": "code",
   "execution_count": 99,
   "metadata": {},
   "outputs": [
    {
     "name": "stderr",
     "output_type": "stream",
     "text": [
      "C:\\Users\\sukhorukov\\AppData\\Local\\Continuum\\anaconda3\\lib\\site-packages\\pywinauto\\application.py:1068: UserWarning: 32-bit application should be automated using 32-bit Python (you use 64-bit Python)\n",
      "  UserWarning)\n"
     ]
    }
   ],
   "source": [
    "os.startfile(reading_path)\n",
    "time.sleep(sleep)\n",
    "app = pw.Application(backend = 'win32').connect(path = app_path)\n",
    "time.sleep(sleep)\n",
    "\n",
    "# code snippet for dealing with windows popping up after killing sse\n",
    "while True:\n",
    "    try:\n",
    "        dlg = app.window(title_re = 'Recover')\n",
    "        dlg.type_keys('{TAB}{ENTER}')\n",
    "    except pw.findwindows.ElementNotFoundError:\n",
    "        break\n",
    "\n",
    "# Closing Popping box with sequences\n",
    "dlg = app.window(title_re=\"Loading File\")\n",
    "app.dlg.type_keys('{ENTER}')\n",
    "time.sleep(sleep)\n",
    "\n",
    "# Navigating to Grouping Scan tab using keyboard\n",
    "dlg = app.window(title_re=\"SSE Alignment\")\n",
    "dlg.type_keys('{F10}{r}{g}{ENTER}')\n",
    "time.sleep(sleep)\n",
    "\n",
    "# Entering GS parameters\n",
    "dlg = app.window(title_re=\"Grouping Scan Parameters\")\n",
    "dlg.ComboBox0.select(\"File\") # Output is written only to file, to avoid unnescesary load due to graph output\n",
    "dlg.Edit0.set_text(writing_path)\n",
    "dlg.Edit2.set_text(str(round(time.time(), 0))[:-2]) # reshuffled GS are named after time they are taken at\n",
    "dlg.Edit3.set_text(\"1\")\n",
    "dlg.Edit4.set_text(alignment_length)\n",
    "dlg.ComboBox4.select(\"K2P\")\n",
    "dlg.Edit5.set_text(\"default\")\n",
    "dlg.Button16.click()\n",
    "time.sleep(sleep)\n",
    "\n",
    "# Entering Window size and Step size\n",
    "dlg = app.window(title_re = \"Scan Variables\")\n",
    "dlg.Edit1.set_text(window_size)\n",
    "dlg.Edit2.set_text(step_size)\n",
    "dlg.Button3.click()\n"
   ]
  },
  {
   "cell_type": "code",
   "execution_count": 88,
   "metadata": {},
   "outputs": [
    {
     "name": "stderr",
     "output_type": "stream",
     "text": [
      "C:\\Users\\sukhorukov\\AppData\\Local\\Continuum\\anaconda3\\lib\\site-packages\\pywinauto\\application.py:1068: UserWarning: 32-bit application should be automated using 32-bit Python (you use 64-bit Python)\n",
      "  UserWarning)\n"
     ]
    }
   ],
   "source": [
    "app = pw.Application(backend = 'win32').connect(path = app_path)"
   ]
  },
  {
   "cell_type": "code",
   "execution_count": 79,
   "metadata": {},
   "outputs": [
    {
     "data": {
      "text/plain": [
       "[<win32_element_info.HwndElementInfo - 'Пуск', Button, 131274>,\n",
       " <win32_element_info.HwndElementInfo - '', Shell_TrayWnd, 131266>,\n",
       " <win32_element_info.HwndElementInfo - 'JupyterLab - Google Chrome', Chrome_WidgetWin_1, 2753282>,\n",
       " <win32_element_info.HwndElementInfo - '                                                                                                                                                                                                                                                               ', #32770, 1182772>,\n",
       " <win32_element_info.HwndElementInfo - 'Grouping scan', #32770, 1705620>,\n",
       " <win32_element_info.HwndElementInfo - 'FigTree v1.4.4 - FE_-100_50mil.tre', SunAwtFrame, 1181956>,\n",
       " <win32_element_info.HwndElementInfo - 'RStudio', Qt5QWindowIcon, 460612>,\n",
       " <win32_element_info.HwndElementInfo - 'BEAUti', SunAwtFrame, 66680>,\n",
       " <win32_element_info.HwndElementInfo - 'article_draft - Microsoft Word', OpusApp, 459602>,\n",
       " <win32_element_info.HwndElementInfo - 'Sukhorukov_thesis_v2 - Microsoft Word', OpusApp, 788010>,\n",
       " <win32_element_info.HwndElementInfo - 'Work', CabinetWClass, 723254>,\n",
       " <win32_element_info.HwndElementInfo - 'Anaconda Navigator', Qt5QWindowIcon, 1771426>,\n",
       " <win32_element_info.HwndElementInfo - '1Node03 - Xshell 6 (Free for Home/School)', Xshell6::MainFrame_0, 133556>,\n",
       " <win32_element_info.HwndElementInfo - 'FigTree v1.4.4 - NS1_50mil.tre', SunAwtFrame, 2950692>,\n",
       " <win32_element_info.HwndElementInfo - 'Документы', CabinetWClass, 722980>,\n",
       " <win32_element_info.HwndElementInfo - 'BEAST v1.10.4', CabinetWClass, 591882>,\n",
       " <win32_element_info.HwndElementInfo - 'Загрузки', CabinetWClass, 132278>,\n",
       " <win32_element_info.HwndElementInfo - 'Program Manager', Progman, 65890>]"
      ]
     },
     "execution_count": 79,
     "metadata": {},
     "output_type": "execute_result"
    }
   ],
   "source": [
    "pw.findwindows.find_elements()"
   ]
  },
  {
   "cell_type": "code",
   "execution_count": 87,
   "metadata": {},
   "outputs": [
    {
     "ename": "TypeError",
     "evalue": "find_best_control_matches() missing 1 required positional argument: 'controls'",
     "output_type": "error",
     "traceback": [
      "\u001b[1;31m---------------------------------------------------------------------------\u001b[0m",
      "\u001b[1;31mTypeError\u001b[0m                                 Traceback (most recent call last)",
      "\u001b[1;32m<ipython-input-87-73491f86958a>\u001b[0m in \u001b[0;36m<module>\u001b[1;34m\u001b[0m\n\u001b[1;32m----> 1\u001b[1;33m \u001b[0mpw\u001b[0m\u001b[1;33m.\u001b[0m\u001b[0mfindbestmatch\u001b[0m\u001b[1;33m.\u001b[0m\u001b[0mfind_best_control_matches\u001b[0m\u001b[1;33m(\u001b[0m\u001b[1;34m'OK'\u001b[0m\u001b[1;33m)\u001b[0m\u001b[1;33m\u001b[0m\u001b[1;33m\u001b[0m\u001b[0m\n\u001b[0m",
      "\u001b[1;31mTypeError\u001b[0m: find_best_control_matches() missing 1 required positional argument: 'controls'"
     ]
    }
   ],
   "source": [
    "pw.findbestmatch.find_best_control_matches('OK')"
   ]
  },
  {
   "cell_type": "code",
   "execution_count": 96,
   "metadata": {},
   "outputs": [
    {
     "name": "stdout",
     "output_type": "stream",
     "text": [
      "Control Identifiers:\n",
      "\n",
      "Dialog - '                                                                                                                                                                                                                                                               '    (L197, T372, R507, B502)\n",
      "['                                                                                                                                                                                                                                                               ', '                                                                                                                                                                                                                                                               Dialog', 'Dialog']\n",
      "child_window(title=\"                                                                                                                                                                                                                                                               \", class_name=\"#32770\")\n",
      "   | \n",
      "   | GroupBox - ''    (L238, T401, R493, B464)\n",
      "   | ['GroupBox', 'Program run or terminatedGroupBox', 'GroupBox0', 'GroupBox1', 'Program run or terminatedGroupBox0', 'Program run or terminatedGroupBox1']\n",
      "   | child_window(class_name=\"Button\")\n",
      "   | \n",
      "   | Static - 'Program run or terminated'    (L241, T412, R487, B436)\n",
      "   | ['Program run or terminated', 'Static', 'Program run or terminatedStatic', 'Static0', 'Static1']\n",
      "   | child_window(title=\"Program run or terminated\", class_name=\"Static\")\n",
      "   | \n",
      "   | GroupBox - ''    (L238, T401, R493, B464)\n",
      "   | ['GroupBox2', 'Program run or terminatedGroupBox2']\n",
      "   | child_window(class_name=\"Button\")\n",
      "   | \n",
      "   | Static - 'Press OK to return to editor'    (L241, T435, R487, B459)\n",
      "   | ['Press OK to return to editorStatic', 'Static2', 'Press OK to return to editor']\n",
      "   | child_window(title=\"Press OK to return to editor\", class_name=\"Static\")\n",
      "   | \n",
      "   | Static - ''    (L205, T423, R235, B456)\n",
      "   | ['Static3', '                                                                                                                                                                                                                                                               Static']\n",
      "   | child_window(class_name=\"Static\")\n",
      "   | \n",
      "   | Button - ''    (L328, T469, R378, B495)\n",
      "   | ['Button', 'Press OK to return to editorButton']\n",
      "   | child_window(class_name=\"Button\")\n"
     ]
    }
   ],
   "source": [
    "app.top_window().print_control_identifiers()"
   ]
  },
  {
   "cell_type": "code",
   "execution_count": 97,
   "metadata": {},
   "outputs": [],
   "source": [
    "dlg = app.top_window()\n",
    "dlg['GroupBox'].click()"
   ]
  }
 ],
 "metadata": {
  "kernelspec": {
   "display_name": "Python 3",
   "language": "python",
   "name": "python3"
  },
  "language_info": {
   "codemirror_mode": {
    "name": "ipython",
    "version": 3
   },
   "file_extension": ".py",
   "mimetype": "text/x-python",
   "name": "python",
   "nbconvert_exporter": "python",
   "pygments_lexer": "ipython3",
   "version": "3.7.3"
  }
 },
 "nbformat": 4,
 "nbformat_minor": 2
}
