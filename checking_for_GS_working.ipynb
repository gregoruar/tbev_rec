{
 "cells": [
  {
   "cell_type": "markdown",
   "metadata": {},
   "source": [
    "Importing"
   ]
  },
  {
   "cell_type": "code",
   "execution_count": 1,
   "metadata": {},
   "outputs": [],
   "source": [
    "import os\n",
    "import pandas as pd\n",
    "import matplotlib.pyplot as plt\n",
    "import numpy as np"
   ]
  },
  {
   "cell_type": "markdown",
   "metadata": {},
   "source": [
    "Defining functions"
   ]
  },
  {
   "cell_type": "code",
   "execution_count": 2,
   "metadata": {},
   "outputs": [],
   "source": [
    "def checking_completeness(table):\n",
    "    n = len(table)\n",
    "    return(n)"
   ]
  },
  {
   "cell_type": "code",
   "execution_count": 3,
   "metadata": {},
   "outputs": [],
   "source": [
    "def length_of_signal(table, genotype, threshold):\n",
    "    list_max = []\n",
    "    list_total = []\n",
    "    for i,j in zip([\"Siberian\", \"Far-Eastern\",\"European\",\"Omsk\"],[\"Siberian\", \"Far-eastern\",\"European\",\"Omsk\"]):\n",
    "        if genotype == i:\n",
    "            gen_ = j\n",
    "    for row in table[gen_]:\n",
    "        if row >= threshold:\n",
    "            try:\n",
    "                list_max.append(list_max[-1]+1)\n",
    "            except IndexError:\n",
    "                list_max.append(1)\n",
    "            list_total.append(1)\n",
    "        else:\n",
    "            list_max.append(0)\n",
    "            list_total.append(0)\n",
    "    return(max(list_max),sum(list_total))"
   ]
  },
  {
   "cell_type": "code",
   "execution_count": 4,
   "metadata": {},
   "outputs": [],
   "source": [
    "def integrating(table, genotype, threshold):\n",
    "    list_integr = []\n",
    "    for i,j in zip([\"Siberian\", \"Far-Eastern\",\"European\",\"Omsk\"],[\"Siberian\", \"Far-eastern\",\"European\",\"Omsk\"]):\n",
    "        if genotype == i:\n",
    "            gen_ = j\n",
    "    S = 0\n",
    "    for row in table[gen_]:\n",
    "        list_integr.append(row)\n",
    "        if row > threshold:\n",
    "            try:\n",
    "                prev_row = list_integr[-1]\n",
    "                if prev_row > threshold:\n",
    "                    S += (prev_row - threshold) + (row - prev_row)/2\n",
    "                else:\n",
    "                    S += (row - threshold)/(row - prev_row)*(row - threshold)/2\n",
    "            except IndexError:\n",
    "                continue\n",
    "        else:\n",
    "            try:\n",
    "                prev_row = list_integr[-1]\n",
    "                if prev_row > threshold:\n",
    "                    S += (prev_row - threshold)/(prev_row - row)*(prev_row - threshold)/2\n",
    "            except IndexError:\n",
    "                continue\n",
    "    return(S)"
   ]
  },
  {
   "cell_type": "code",
   "execution_count": 5,
   "metadata": {},
   "outputs": [],
   "source": [
    "def wrapper(path_to_file, path_to_folder, genotype, threshold):\n",
    "    with open(path_to_file) as file:\n",
    "        table_init = pd.read_csv(file, sep='\\t')\n",
    "    result_max, result_total = length_of_signal(table_init, genotype, threshold)\n",
    "    for root, directory, filename in os.walk(path_to_folder):\n",
    "        for name in filename:\n",
    "            if \"Raw_Data\" in name:\n",
    "                ind = filename.index(name)\n",
    "                del(filename[ind])\n",
    "    list_with_files = filename[:]\n",
    "    list_with_results = []\n",
    "    for scan in list_with_files:\n",
    "        with open(os.path.join(path_to_folder+scan)) as file:\n",
    "            table_recursive = pd.read_csv(file, sep='\\t')\n",
    "        list_with_results.append(length_of_signal(table_recursive, genotype, threshold))\n",
    "        \n",
    "    p_max_ = 0\n",
    "    p_total_ = 0\n",
    "    for i in range(len(list_with_results)):\n",
    "        if list_with_results[i][0]  >= result_max:\n",
    "            p_max_ += 1\n",
    "        if list_with_results[i][1]  >= result_total:\n",
    "            p_total_ += 1\n",
    "    p_val_max = p_max_ / len(list_with_results)\n",
    "    p_val_total = p_total_ / len(list_with_results)\n",
    "    return(p_val_max, p_val_total, list_with_results)\n",
    "        "
   ]
  },
  {
   "cell_type": "code",
   "execution_count": 6,
   "metadata": {},
   "outputs": [],
   "source": [
    "def wrapper_int(path_to_file, path_to_folder, genotype, threshold):\n",
    "    with open(path_to_file) as file:\n",
    "        table_init = pd.read_csv(file, sep='\\t')\n",
    "    Square_ref = integrating(table_init, genotype, threshold)\n",
    "    for root, directory, filename in os.walk(path_to_folder):\n",
    "        for name in filename:\n",
    "            if \"Raw_Data\" in name:\n",
    "                ind = filename.index(name)\n",
    "                del(filename[ind])\n",
    "    list_with_files = filename[:]\n",
    "    list_with_results = []\n",
    "    for scan in list_with_files:\n",
    "        with open(os.path.join(path_to_folder+scan)) as file:\n",
    "            table_recursive = pd.read_csv(file, sep='\\t')\n",
    "        list_with_results.append(integrating(table_recursive, genotype, threshold))\n",
    "    p_int_ = 0\n",
    "    for i in range(len(list_with_results)):\n",
    "        if list_with_results[i]  >= Square_ref:\n",
    "            p_int_ += 1\n",
    "    p_val_int = p_int_/len(list_with_results)\n",
    "    return(p_val_int, list(list_with_results))\n",
    "        "
   ]
  },
  {
   "cell_type": "markdown",
   "metadata": {},
   "source": [
    "Easy example for testing script"
   ]
  },
  {
   "cell_type": "code",
   "execution_count": 7,
   "metadata": {},
   "outputs": [
    {
     "name": "stdout",
     "output_type": "stream",
     "text": [
      "0.0018893536121672996\n",
      "0.15889999999999993\n"
     ]
    }
   ],
   "source": [
    "path_to_file = \"C:/Users/gregoruar/Desktop/Alexey_work/ref_scan_250_40.DAT\"\n",
    "path_to_folder = \"C:/Users/gregoruar/Desktop/Alexey_work/scans/\"\n",
    "k = 0.4\n",
    "_list = os.walk(path_to_folder)\n",
    "_, _, file_list = next(_list)\n",
    "result_list = [] \n",
    "for file in file_list:\n",
    "    if file.endswith('Scan.DAT'):\n",
    "        table = pd.read_csv(os.path.join(path_to_folder, file), sep='\\t')\n",
    "        result_list.append(integrating(table, \"Omsk\", k))\n",
    "print(sum(result_list)/len(result_list))\n",
    "with open(path_to_file) as file:\n",
    "   table = pd.read_csv(file, sep='\\t')\n",
    "result = integrating(table, \"Omsk\", k)\n",
    "print(result)    "
   ]
  },
  {
   "cell_type": "code",
   "execution_count": 8,
   "metadata": {},
   "outputs": [],
   "source": [
    "for res in result_list:\n",
    "    if res > 0.5:\n",
    "        print(res)"
   ]
  },
  {
   "cell_type": "markdown",
   "metadata": {},
   "source": [
    "Integrating chunck"
   ]
  },
  {
   "cell_type": "code",
   "execution_count": 109,
   "metadata": {},
   "outputs": [],
   "source": [
    "path_to_file = \"/Users/gregoruar/Desktop/alexey_work/ref_scan_250_40.DAT\"\n",
    "path_to_folder = \"/Users/gregoruar/Desktop/alexey_work/scans/\"\n",
    "genotype = \"European\"\n",
    "color = \"g\"\n",
    "threshold_list = [0.025 + i/20 for i in range(20)]\n",
    "p_val_int_list = []\n",
    "list_with_lists = []\n",
    "for threshold in threshold_list:\n",
    "    s, l = wrapper_int(path_to_file, path_to_folder, genotype, threshold)\n",
    "    p_val_int_list.append(s)\n",
    "    list_with_lists.append(l)"
   ]
  },
  {
   "cell_type": "code",
   "execution_count": 43,
   "metadata": {},
   "outputs": [],
   "source": [
    "path_to_file = \"/Users/gregoruar/Desktop/alexey_work/ref_scan_250_40.DAT\"\n",
    "path_to_folder = \"/Users/gregoruar/Desktop/alexey_work/scans/\"\n",
    "genotype = \"Omsk\"\n",
    "color = \"#808080\"\n",
    "threshold_list = [0.001 + i/100 for i in range(100)]\n",
    "p_val_int_list = []\n",
    "list_with_lists = []\n",
    "for threshold in threshold_list:\n",
    "    s, l = wrapper_int(path_to_file, path_to_folder, genotype, threshold)\n",
    "    p_val_int_list.append(s)\n",
    "    list_with_lists.append(l)"
   ]
  },
  {
   "cell_type": "code",
   "execution_count": 44,
   "metadata": {},
   "outputs": [
    {
     "data": {
      "image/png": "[encoded data removed]",
      "text/plain": [
       "<Figure size 432x432 with 1 Axes>"
      ]
     },
     "metadata": {
      "needs_background": "light"
     },
     "output_type": "display_data"
    }
   ],
   "source": [
    "plt.figure(figsize=(6,6))\n",
    "SMALL_SIZE = 18\n",
    "\n",
    "plt.rc('font', size=SMALL_SIZE)          # controls default text sizes\n",
    "plt.rc('axes', titlesize=SMALL_SIZE)     # fontsize of the axes title\n",
    "plt.rc('axes', labelsize=SMALL_SIZE)    # fontsize of the x and y labels\n",
    "plt.rc('xtick', labelsize=14)    # fontsize of the tick labels\n",
    "plt.rc('ytick', labelsize=14)    # fontsize of the tick labels\n",
    "\n",
    "plt.title(\"AUC \" + genotype, family='Arial', size = 20)\n",
    "plt.xlabel(\"threshold\", family='Arial')\n",
    "plt.ylabel(\"p-value\", family='Arial')\n",
    "plt.xlim((0.5,1.0))\n",
    "# plt.ylim((-0.02,0.1))\n",
    "plt.grid()\n",
    "plt.ylim((-0.1,1.1))\n",
    "plt.plot(threshold_list,p_val_int_list,color=color,linewidth=4)\n",
    "plt.tight_layout()\n",
    "plt.savefig('/Users/gregoruar/Desktop/alexey_work/pictures/AUC1_'+genotype+'.png')"
   ]
  },
  {
   "cell_type": "markdown",
   "metadata": {},
   "source": [
    "max & total chunck"
   ]
  },
  {
   "cell_type": "code",
   "execution_count": 8,
   "metadata": {},
   "outputs": [
    {
     "data": {
      "image/png": "[encoded data removed]",
      "text/plain": [
       "<Figure size 720x504 with 4 Axes>"
      ]
     },
     "metadata": {
      "needs_background": "light"
     },
     "output_type": "display_data"
    }
   ],
   "source": [
    "path_to_file = \"/Users/gregoruar/Desktop/ref_scan_250_40.DAT\"\n",
    "path_to_folder = \"/Users/gregoruar/Desktop/scans/\"\n",
    "genotype = \"Siberian\"\n",
    "color = \"r\"\n",
    "threshold_list = [0.025 + i/20 for i in range(20)]\n",
    "p_val_max_list = []\n",
    "p_val_total_list = []\n",
    "list_with_lists = []\n",
    "for threshold in threshold_list:\n",
    "    m, t, l = wrapper(path_to_file, path_to_folder, genotype, threshold)\n",
    "    p_val_max_list.append(m)\n",
    "    p_val_total_list.append(t)\n",
    "    list_with_lists.append(l)\n",
    "plt.figure(figsize=(10,7))\n",
    "plt.subplot(2, 2, 1)\n",
    "plt.ylabel(\"p-value\")\n",
    "plt.title(\"Max\")\n",
    "plt.plot(threshold_list,p_val_max_list,color=color)\n",
    "plt.ylim((0,1))\n",
    "plt.subplot(2, 2, 2)\n",
    "plt.ylabel(\"p-value\")\n",
    "plt.ylim((0,1))\n",
    "plt.title(\"Total\")\n",
    "plt.plot(threshold_list,p_val_total_list,color=color)\n",
    "plt.subplot(2, 2, 3)\n",
    "plt.xlabel(\"threshold\")\n",
    "plt.ylabel(\"p-value\")\n",
    "plt.plot(threshold_list,p_val_max_list,color=color)\n",
    "plt.ylim((0,0.1))\n",
    "plt.subplot(2, 2, 4)\n",
    "plt.xlabel(\"threshold\")\n",
    "plt.ylabel(\"p-value\")\n",
    "plt.ylim((0,0.1))\n",
    "plt.plot(threshold_list,p_val_total_list,color=color)\n",
    "plt.tight_layout()\n",
    "#plt.savefig('C:/Users/123/Desktop/My_work/from_bigwin/Max&Total_'+genotype+'.png')"
   ]
  },
  {
   "cell_type": "code",
   "execution_count": null,
   "metadata": {},
   "outputs": [],
   "source": [
    "def integrating_picture(path_to_file, path_to_folder, genotype, step):\n",
    "    threshold_list = [0.025 + i/20 for i in range(20)]\n",
    "    p_val_int_list = []\n",
    "    list_with_lists = []\n",
    "    for threshold in threshold_list:\n",
    "        s, l = wrapper_int(path_to_file, path_to_folder, genotype, threshold)\n",
    "        p_val_int_list.append(s)\n",
    "        list_with_lists.append(l)\n",
    "    plt.figure(figsize=(10,7))\n",
    "    plt.subplot(2, 1, 1)\n",
    "    plt.ylabel(\"p-value\")\n",
    "    plt.title(\"Square \" + genotype)\n",
    "    plt.plot(threshold_list,p_val_int_list, color = color)\n",
    "    plt.ylim((0,1))\n",
    "    plt.subplot(2, 1, 2)\n",
    "    plt.xlabel(\"threshold\")\n",
    "    plt.ylabel(\"p-value\")\n",
    "    plt.ylim((0,0.1))\n",
    "    plt.title(\"Square \" + genotype)\n",
    "    plt.plot(threshold_list,p_val_int_list)\n",
    "    plt.tight_layout()\n",
    "    plt.savefig('C:/Users/123/Desktop/My_work/from_bigwin/AUC_'+genotype+'.png')"
   ]
  },
  {
   "cell_type": "code",
   "execution_count": 99,
   "metadata": {},
   "outputs": [
    {
     "data": {
      "text/plain": [
       "(array([ 32.,  27.,  17.,  15.,   5.,   3.]),\n",
       " array([0, 1, 2, 3, 4, 5, 6]),\n",
       " <a list of 6 Patch objects>)"
      ]
     },
     "execution_count": 99,
     "metadata": {},
     "output_type": "execute_result"
    },
    {
     "data": {
      "image/png": "[encoded data removed]",
      "text/plain": [
       "<matplotlib.figure.Figure at 0x19a75c87240>"
      ]
     },
     "metadata": {},
     "output_type": "display_data"
    }
   ],
   "source": [
    "for i in range(20)\n",
    "    plt.figure(figsize=(10,5))\n",
    "    z = [i[0] for i in list_with_lists[10]]\n",
    "    plt.subplot(1, 2, 1)\n",
    "    plt.title(\"Max Counts\")\n",
    "    plt.hist(z, bins = [0,1,2,3,4,5,6])\n",
    "    x = [i[1] for i in list_with_lists[10]]\n",
    "    plt.subplot(1, 2, 2)\n",
    "    plt.title(\"Total Counts\")\n",
    "    plt.hist(x, bins = [0,1,2,3,4,5,6])"
   ]
  },
  {
   "cell_type": "code",
   "execution_count": null,
   "metadata": {},
   "outputs": [],
   "source": [
    "path_to_file = \"C:/Users/123/Desktop/My_work/from_bigwin/250_40_1544682905 Grouping_Scan.DAT\"\n",
    "path_to_folder = \"C:/Users/123/Desktop/My_work/from_bigwin/250_40/\"\n",
    "with open(path_to_file) as file:\n",
    "        table = pd.read_csv(file, sep='\\t')\n",
    "    list_with_results.append(length_of_signal(\"Siberian\", 0.6, \"max\"))\n",
    "list_with_files = []\n",
    "for root, directory, filename in os.walk(path):\n",
    "    for name in filename:\n",
    "        if \"Raw_Data\" in name:\n",
    "            ind = filename.index(name)\n",
    "            del(filename[ind])\n",
    "    list_with_files = filename[:]\n",
    "list_with_results = []\n",
    "for scan in list_with_files:\n",
    "    with open(os.path.join(path+scan)) as file:\n",
    "        table = pd.read_csv(file, sep='\\t')\n",
    "    list_with_results.append(length_of_signal(\"Siberian\", 0.6, \"max\"))"
   ]
  },
  {
   "cell_type": "code",
   "execution_count": 4,
   "metadata": {},
   "outputs": [],
   "source": [
    "path = \"C:/Users/123/Desktop/My_work/from_bigwin/250_40/\"\n",
    "list_with_files = []\n",
    "for root, directory, filename in os.walk(path):\n",
    "    for name in filename:\n",
    "        if \"Raw_Data\" in name:\n",
    "            ind = filename.index(name)\n",
    "            del(filename[ind])\n",
    "    list_with_files = filename[:]\n",
    "list_with_results = []\n",
    "for scan in list_with_files:\n",
    "    with open(os.path.join(path+scan)) as file:\n",
    "        table = pd.read_csv(file, sep='\\t')\n",
    "    list_with_results.append(length_of_signal(\"Siberian\", 0.6, \"max\"))"
   ]
  },
  {
   "cell_type": "code",
   "execution_count": 5,
   "metadata": {},
   "outputs": [
    {
     "name": "stdout",
     "output_type": "stream",
     "text": [
      "87\n"
     ]
    }
   ],
   "source": [
    "print(len(list_with_results))"
   ]
  },
  {
   "cell_type": "code",
   "execution_count": 106,
   "metadata": {},
   "outputs": [
    {
     "name": "stdout",
     "output_type": "stream",
     "text": [
      "[9, 5, 3, 3, 9, 4, 3, 2, 7, 4, 2, 2, 3, 1, 2, 0, 0, 0, 0, 0]\n"
     ]
    }
   ],
   "source": [
    "print(list_with_results)"
   ]
  },
  {
   "cell_type": "code",
   "execution_count": 105,
   "metadata": {},
   "outputs": [],
   "source": [
    "path = \"C:/Users/123/Desktop/My_work/from_bigwin/testing_for_signal/\"\n",
    "list_with_files = []\n",
    "for root, directory, filename in os.walk(path):\n",
    "    for name in filename:\n",
    "        if \"Raw_Data\" in name:\n",
    "            ind = filename.index(name)\n",
    "            del(filename[ind])\n",
    "    list_with_files = filename[:]\n",
    "list_with_results = []\n",
    "for scan in list_with_files:\n",
    "    with open(os.path.join(path+scan)) as file:\n",
    "        table = pd.read_csv(file, sep='\\t')\n",
    "    list_with_results.append(length_of_signal(\"Siberian\", 0.6, \"max\"))"
   ]
  }
 ],
 "metadata": {
  "kernelspec": {
   "display_name": "Python 3",
   "language": "python",
   "name": "python3"
  },
  "language_info": {
   "codemirror_mode": {
    "name": "ipython",
    "version": 3
   },
   "file_extension": ".py",
   "mimetype": "text/x-python",
   "name": "python",
   "nbconvert_exporter": "python",
   "pygments_lexer": "ipython3",
   "version": "3.7.3"
  }
 },
 "nbformat": 4,
 "nbformat_minor": 4
}
