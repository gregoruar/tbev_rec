{
 "cells": [
  {
   "cell_type": "markdown",
   "metadata": {},
   "source": [
    "Importing"
   ]
  },
  {
   "cell_type": "code",
   "execution_count": 1,
   "metadata": {},
   "outputs": [],
   "source": [
    "import os\n",
    "import pandas as pd\n",
    "import matplotlib.pyplot as plt"
   ]
  },
  {
   "cell_type": "markdown",
   "metadata": {},
   "source": [
    "Defining functions"
   ]
  },
  {
   "cell_type": "code",
   "execution_count": 2,
   "metadata": {},
   "outputs": [],
   "source": [
    "def length_of_signal(table, genotype, threshold):\n",
    "    list_max = []\n",
    "    list_total = []\n",
    "    for i,j in zip([\"Siberian\", \"Far-Eastern\",\"European\",\"Omsk\"],[\"Tag G1\", \"Tag B1\", \"Tag G3\", \"Tag R9\"]):\n",
    "        if genotype == i:\n",
    "            gen_ = j\n",
    "    for row in table[gen_]:\n",
    "        if row >= threshold:\n",
    "            try:\n",
    "                list_max.append(list_max[-1]+1)\n",
    "            except IndexError:\n",
    "                list_max.append(1)\n",
    "            list_total.append(1)\n",
    "        else:\n",
    "            list_max.append(0)\n",
    "            list_total.append(0)\n",
    "    return(max(list_max),sum(list_total))"
   ]
  },
  {
   "cell_type": "code",
   "execution_count": 2,
   "metadata": {},
   "outputs": [],
   "source": [
    "def integrating(table, genotype, threshold):\n",
    "    list_integr = []\n",
    "    for i,j in zip([\"Siberian\", \"Far-Eastern\",\"European\",\"Omsk\"],[\"Tag G1\", \"Tag B1\", \"Tag G3\", \"Tag R9\"]):\n",
    "        if genotype == i:\n",
    "            gen_ = j\n",
    "    S = 0\n",
    "    for row in table[gen_]:\n",
    "        list_integr.append(row)\n",
    "        if row > threshold:\n",
    "            try:\n",
    "                prev_row = list_integr[-1]\n",
    "                if prev_row > threshold:\n",
    "                    S += (prev_row - threshold) + (row - prev_row)/2\n",
    "                else:\n",
    "                    S += (row - threshold)/(row - prev_row)*(row - threshold)/2\n",
    "            except IndexError:\n",
    "                continue\n",
    "        else:\n",
    "            try:\n",
    "                prev_row = list_integr[-1]\n",
    "                if prev_row > threshold:\n",
    "                    S += (prev_row - threshold)/(prev_row - row)*(prev_row - threshold)/2\n",
    "            except IndexError:\n",
    "                continue\n",
    "    return(S)"
   ]
  },
  {
   "cell_type": "code",
   "execution_count": 4,
   "metadata": {},
   "outputs": [],
   "source": [
    "def wrapper(path_to_file, path_to_folder, genotype, threshold):\n",
    "    with open(path_to_file) as file:\n",
    "        table_init = pd.read_csv(file, sep='\\t')\n",
    "    result_max, result_total = length_of_signal(table_init, genotype, threshold)\n",
    "    for root, directory, filename in os.walk(path_to_folder):\n",
    "        for name in filename:\n",
    "            if \"Raw_Data\" in name:\n",
    "                ind = filename.index(name)\n",
    "                del(filename[ind])\n",
    "    list_with_files = filename[:]\n",
    "    list_with_results = []\n",
    "    for scan in list_with_files:\n",
    "        with open(os.path.join(path_to_folder+scan)) as file:\n",
    "            table_recursive = pd.read_csv(file, sep='\\t')\n",
    "        list_with_results.append(length_of_signal(table_recursive, genotype, threshold))\n",
    "    p_max_ = 0\n",
    "    p_total_ = 0\n",
    "    for i in range(len(list_with_results)):\n",
    "        if list_with_results[i][0]  >= result_max:\n",
    "            p_max_ += 1\n",
    "        if list_with_results[i][1]  >= result_total:\n",
    "            p_total_ += 1\n",
    "    p_val_max = p_max_/len(list_with_results)\n",
    "    p_val_total = p_total_/len(list_with_results)\n",
    "    return(p_val_max, p_val_total, list_with_results)\n",
    "        "
   ]
  },
  {
   "cell_type": "code",
   "execution_count": 3,
   "metadata": {},
   "outputs": [],
   "source": [
    "def wrapper_int(path_to_file, path_to_folder, genotype, threshold):\n",
    "    with open(path_to_file) as file:\n",
    "        table_init = pd.read_csv(file, sep='\\t')\n",
    "    Square_ref = integrating(table_init, genotype, threshold)\n",
    "    for root, directory, filename in os.walk(path_to_folder):\n",
    "        for name in filename:\n",
    "            if \"Raw_Data\" in name:\n",
    "                ind = filename.index(name)\n",
    "                del(filename[ind])\n",
    "    list_with_files = filename[:]\n",
    "    list_with_results = []\n",
    "    for scan in list_with_files:\n",
    "        with open(os.path.join(path_to_folder+scan)) as file:\n",
    "            table_recursive = pd.read_csv(file, sep='\\t')\n",
    "        list_with_results.append(integrating(table_recursive, genotype, threshold))\n",
    "    p_int_ = 0\n",
    "    for i in range(len(list_with_results)):\n",
    "        if list_with_results[i]  >= Square_ref:\n",
    "            p_int_ += 1\n",
    "    p_val_int = p_int_/len(list_with_results)\n",
    "    return(p_val_int, list(list_with_results))\n",
    "        "
   ]
  },
  {
   "cell_type": "markdown",
   "metadata": {},
   "source": [
    "Easy example for testing script"
   ]
  },
  {
   "cell_type": "code",
   "execution_count": 7,
   "metadata": {},
   "outputs": [
    {
     "name": "stdout",
     "output_type": "stream",
     "text": [
      "1.3766\n"
     ]
    }
   ],
   "source": [
    "path_to_file = \"C:/Users/sukhorukov/Work/Work/scans/250_40_1544682905 Grouping_Scan.DAT\"\n",
    "path_to_folder = \"C:/Users/sukhorukov/Work/Work/scans/250_40/\"\n",
    "with open(path_to_file) as file:\n",
    "    table = pd.read_csv(file, sep='\\t')\n",
    "result = integrating(table, \"Siberian\", 0.5)\n",
    "print(result)"
   ]
  },
  {
   "cell_type": "markdown",
   "metadata": {},
   "source": [
    "Integrating chunck"
   ]
  },
  {
   "cell_type": "code",
   "execution_count": 4,
   "metadata": {},
   "outputs": [
    {
     "ename": "FileNotFoundError",
     "evalue": "[Errno 2] No such file or directory: 'C:/Users/123/Desktop/My_work/from_bigwin/250_40_1544682905 Grouping_Scan.DAT'",
     "output_type": "error",
     "traceback": [
      "\u001b[1;31m---------------------------------------------------------------------------\u001b[0m",
      "\u001b[1;31mFileNotFoundError\u001b[0m                         Traceback (most recent call last)",
      "\u001b[1;32m<ipython-input-4-f610130e3d69>\u001b[0m in \u001b[0;36m<module>\u001b[1;34m\u001b[0m\n\u001b[0;32m      6\u001b[0m \u001b[0mlist_with_lists\u001b[0m \u001b[1;33m=\u001b[0m \u001b[1;33m[\u001b[0m\u001b[1;33m]\u001b[0m\u001b[1;33m\u001b[0m\u001b[1;33m\u001b[0m\u001b[0m\n\u001b[0;32m      7\u001b[0m \u001b[1;32mfor\u001b[0m \u001b[0mthreshold\u001b[0m \u001b[1;32min\u001b[0m \u001b[0mthreshold_list\u001b[0m\u001b[1;33m:\u001b[0m\u001b[1;33m\u001b[0m\u001b[1;33m\u001b[0m\u001b[0m\n\u001b[1;32m----> 8\u001b[1;33m     \u001b[0ms\u001b[0m\u001b[1;33m,\u001b[0m \u001b[0ml\u001b[0m \u001b[1;33m=\u001b[0m \u001b[0mwrapper_int\u001b[0m\u001b[1;33m(\u001b[0m\u001b[0mpath_to_file\u001b[0m\u001b[1;33m,\u001b[0m \u001b[0mpath_to_folder\u001b[0m\u001b[1;33m,\u001b[0m \u001b[0mgenotype\u001b[0m\u001b[1;33m,\u001b[0m \u001b[0mthreshold\u001b[0m\u001b[1;33m)\u001b[0m\u001b[1;33m\u001b[0m\u001b[1;33m\u001b[0m\u001b[0m\n\u001b[0m\u001b[0;32m      9\u001b[0m     \u001b[0mp_val_int_list\u001b[0m\u001b[1;33m.\u001b[0m\u001b[0mappend\u001b[0m\u001b[1;33m(\u001b[0m\u001b[0ms\u001b[0m\u001b[1;33m)\u001b[0m\u001b[1;33m\u001b[0m\u001b[1;33m\u001b[0m\u001b[0m\n\u001b[0;32m     10\u001b[0m     \u001b[0mlist_with_lists\u001b[0m\u001b[1;33m.\u001b[0m\u001b[0mappend\u001b[0m\u001b[1;33m(\u001b[0m\u001b[0ml\u001b[0m\u001b[1;33m)\u001b[0m\u001b[1;33m\u001b[0m\u001b[1;33m\u001b[0m\u001b[0m\n",
      "\u001b[1;32m<ipython-input-3-555e190e37c9>\u001b[0m in \u001b[0;36mwrapper_int\u001b[1;34m(path_to_file, path_to_folder, genotype, threshold)\u001b[0m\n\u001b[0;32m      1\u001b[0m \u001b[1;32mdef\u001b[0m \u001b[0mwrapper_int\u001b[0m\u001b[1;33m(\u001b[0m\u001b[0mpath_to_file\u001b[0m\u001b[1;33m,\u001b[0m \u001b[0mpath_to_folder\u001b[0m\u001b[1;33m,\u001b[0m \u001b[0mgenotype\u001b[0m\u001b[1;33m,\u001b[0m \u001b[0mthreshold\u001b[0m\u001b[1;33m)\u001b[0m\u001b[1;33m:\u001b[0m\u001b[1;33m\u001b[0m\u001b[1;33m\u001b[0m\u001b[0m\n\u001b[1;32m----> 2\u001b[1;33m     \u001b[1;32mwith\u001b[0m \u001b[0mopen\u001b[0m\u001b[1;33m(\u001b[0m\u001b[0mpath_to_file\u001b[0m\u001b[1;33m)\u001b[0m \u001b[1;32mas\u001b[0m \u001b[0mfile\u001b[0m\u001b[1;33m:\u001b[0m\u001b[1;33m\u001b[0m\u001b[1;33m\u001b[0m\u001b[0m\n\u001b[0m\u001b[0;32m      3\u001b[0m         \u001b[0mtable_init\u001b[0m \u001b[1;33m=\u001b[0m \u001b[0mpd\u001b[0m\u001b[1;33m.\u001b[0m\u001b[0mread_csv\u001b[0m\u001b[1;33m(\u001b[0m\u001b[0mfile\u001b[0m\u001b[1;33m,\u001b[0m \u001b[0msep\u001b[0m\u001b[1;33m=\u001b[0m\u001b[1;34m'\\t'\u001b[0m\u001b[1;33m)\u001b[0m\u001b[1;33m\u001b[0m\u001b[1;33m\u001b[0m\u001b[0m\n\u001b[0;32m      4\u001b[0m     \u001b[0mSquare_ref\u001b[0m \u001b[1;33m=\u001b[0m \u001b[0mintegrating\u001b[0m\u001b[1;33m(\u001b[0m\u001b[0mtable_init\u001b[0m\u001b[1;33m,\u001b[0m \u001b[0mgenotype\u001b[0m\u001b[1;33m,\u001b[0m \u001b[0mthreshold\u001b[0m\u001b[1;33m)\u001b[0m\u001b[1;33m\u001b[0m\u001b[1;33m\u001b[0m\u001b[0m\n\u001b[0;32m      5\u001b[0m     \u001b[1;32mfor\u001b[0m \u001b[0mroot\u001b[0m\u001b[1;33m,\u001b[0m \u001b[0mdirectory\u001b[0m\u001b[1;33m,\u001b[0m \u001b[0mfilename\u001b[0m \u001b[1;32min\u001b[0m \u001b[0mos\u001b[0m\u001b[1;33m.\u001b[0m\u001b[0mwalk\u001b[0m\u001b[1;33m(\u001b[0m\u001b[0mpath_to_folder\u001b[0m\u001b[1;33m)\u001b[0m\u001b[1;33m:\u001b[0m\u001b[1;33m\u001b[0m\u001b[1;33m\u001b[0m\u001b[0m\n",
      "\u001b[1;31mFileNotFoundError\u001b[0m: [Errno 2] No such file or directory: 'C:/Users/123/Desktop/My_work/from_bigwin/250_40_1544682905 Grouping_Scan.DAT'"
     ]
    }
   ],
   "source": [
    "path_to_file = \"C:/Users/123/Desktop/My_work/from_bigwin/250_40_1544682905 Grouping_Scan.DAT\"\n",
    "path_to_folder = \"C:/Users/123/Desktop/My_work/from_bigwin/250_40/\"\n",
    "genotype = \"Siberian\"\n",
    "threshold_list = [0.1 + i/10 for i in range(10)]\n",
    "p_val_int_list = []\n",
    "list_with_lists = []\n",
    "for threshold in threshold_list:\n",
    "    s, l = wrapper_int(path_to_file, path_to_folder, genotype, threshold)\n",
    "    p_val_int_list.append(s)\n",
    "    list_with_lists.append(l)\n",
    "plt.figure(figsize=(10,7))\n",
    "plt.subplot(2, 1, 1)\n",
    "plt.xlabel(\"threshold\")\n",
    "plt.ylabel(\"p-value\")\n",
    "plt.title(\"Square \" + genotype)\n",
    "plt.plot(threshold_list,p_val_int_list)\n",
    "plt.ylim((0,1))\n",
    "plt.subplot(2, 1, 2)\n",
    "plt.xlabel(\"threshold\")\n",
    "plt.ylabel(\"p-value\")\n",
    "plt.ylim((0,0.1))\n",
    "plt.title(\"Square \" + genotype)\n",
    "plt.plot(threshold_list,p_val_int_list)\n",
    "plt.tight_layout()\n",
    "savefig('.//Пол.png',bbox_inches='tight')#allows to save legends in png(rescales)"
   ]
  },
  {
   "cell_type": "markdown",
   "metadata": {},
   "source": [
    "max & total chunck"
   ]
  },
  {
   "cell_type": "code",
   "execution_count": 9,
   "metadata": {},
   "outputs": [
    {
     "data": {
      "image/png": "[encoded data removed]",
      "text/plain": [
       "<matplotlib.figure.Figure at 0x1b0dfb735f8>"
      ]
     },
     "metadata": {},
     "output_type": "display_data"
    }
   ],
   "source": [
    "path_to_file = \"C:/Users/123/Desktop/My_work/from_bigwin/250_40_1544682905 Grouping_Scan.DAT\"\n",
    "path_to_folder = \"C:/Users/123/Desktop/My_work/from_bigwin/250_40/\"\n",
    "genotype = \"Siberian\"\n",
    "threshold_list = [0.1 + i/15 for i in range(16)]\n",
    "p_val_max_list = []\n",
    "p_val_total_list = []\n",
    "list_with_lists = []\n",
    "for threshold in threshold_list:\n",
    "    m, t, l = wrapper(path_to_file, path_to_folder, genotype, threshold)\n",
    "    p_val_max_list.append(m)\n",
    "    p_val_total_list.append(t)\n",
    "    list_with_lists.append(l)\n",
    "plt.figure(figsize=(10,7))\n",
    "plt.subplot(2, 2, 1)\n",
    "plt.xlabel(\"threshold\")\n",
    "plt.ylabel(\"p-value\")\n",
    "plt.title(\"Max\")\n",
    "plt.plot(threshold_list,p_val_max_list)\n",
    "plt.ylim((0,1))\n",
    "plt.subplot(2, 2, 2)\n",
    "plt.xlabel(\"threshold\")\n",
    "plt.ylabel(\"p-value\")\n",
    "plt.ylim((0,1))\n",
    "plt.title(\"Total\")\n",
    "plt.plot(threshold_list,p_val_total_list)\n",
    "plt.subplot(2, 2, 3)\n",
    "plt.xlabel(\"threshold\")\n",
    "plt.ylabel(\"p-value\")\n",
    "plt.plot(threshold_list,p_val_max_list)\n",
    "plt.ylim((0,0.1))\n",
    "plt.subplot(2, 2, 4)\n",
    "plt.xlabel(\"threshold\")\n",
    "plt.ylabel(\"p-value\")\n",
    "plt.ylim((0,0.1))\n",
    "plt.plot(threshold_list,p_val_total_list)\n",
    "plt.tight_layout()"
   ]
  },
  {
   "cell_type": "code",
   "execution_count": 99,
   "metadata": {},
   "outputs": [
    {
     "data": {
      "text/plain": [
       "(array([ 32.,  27.,  17.,  15.,   5.,   3.]),\n",
       " array([0, 1, 2, 3, 4, 5, 6]),\n",
       " <a list of 6 Patch objects>)"
      ]
     },
     "execution_count": 99,
     "metadata": {},
     "output_type": "execute_result"
    },
    {
     "data": {
      "image/png": "[encoded data removed]",
      "text/plain": [
       "<matplotlib.figure.Figure at 0x19a75c87240>"
      ]
     },
     "metadata": {},
     "output_type": "display_data"
    }
   ],
   "source": [
    "for i in range(20)\n",
    "    plt.figure(figsize=(10,5))\n",
    "    z = [i[0] for i in list_with_lists[10]]\n",
    "    plt.subplot(1, 2, 1)\n",
    "    plt.title(\"Max Counts\")\n",
    "    plt.hist(z, bins = [0,1,2,3,4,5,6])\n",
    "    x = [i[1] for i in list_with_lists[10]]\n",
    "    plt.subplot(1, 2, 2)\n",
    "    plt.title(\"Total Counts\")\n",
    "    plt.hist(x, bins = [0,1,2,3,4,5,6])"
   ]
  },
  {
   "cell_type": "code",
   "execution_count": null,
   "metadata": {},
   "outputs": [],
   "source": [
    "path_to_file = \"C:/Users/123/Desktop/My_work/from_bigwin/250_40_1544682905 Grouping_Scan.DAT\"\n",
    "path_to_folder = \"C:/Users/123/Desktop/My_work/from_bigwin/250_40/\"\n",
    "with open(path_to_file) as file:\n",
    "        table = pd.read_csv(file, sep='\\t')\n",
    "    list_with_results.append(length_of_signal(\"Siberian\", 0.6, \"max\"))\n",
    "list_with_files = []\n",
    "for root, directory, filename in os.walk(path):\n",
    "    for name in filename:\n",
    "        if \"Raw_Data\" in name:\n",
    "            ind = filename.index(name)\n",
    "            del(filename[ind])\n",
    "    list_with_files = filename[:]\n",
    "list_with_results = []\n",
    "for scan in list_with_files:\n",
    "    with open(os.path.join(path+scan)) as file:\n",
    "        table = pd.read_csv(file, sep='\\t')\n",
    "    list_with_results.append(length_of_signal(\"Siberian\", 0.6, \"max\"))"
   ]
  },
  {
   "cell_type": "code",
   "execution_count": 4,
   "metadata": {},
   "outputs": [],
   "source": [
    "path = \"C:/Users/123/Desktop/My_work/from_bigwin/250_40/\"\n",
    "list_with_files = []\n",
    "for root, directory, filename in os.walk(path):\n",
    "    for name in filename:\n",
    "        if \"Raw_Data\" in name:\n",
    "            ind = filename.index(name)\n",
    "            del(filename[ind])\n",
    "    list_with_files = filename[:]\n",
    "list_with_results = []\n",
    "for scan in list_with_files:\n",
    "    with open(os.path.join(path+scan)) as file:\n",
    "        table = pd.read_csv(file, sep='\\t')\n",
    "    list_with_results.append(length_of_signal(\"Siberian\", 0.6, \"max\"))"
   ]
  },
  {
   "cell_type": "code",
   "execution_count": 5,
   "metadata": {},
   "outputs": [
    {
     "name": "stdout",
     "output_type": "stream",
     "text": [
      "87\n"
     ]
    }
   ],
   "source": [
    "print(len(list_with_results))"
   ]
  },
  {
   "cell_type": "code",
   "execution_count": 106,
   "metadata": {},
   "outputs": [
    {
     "name": "stdout",
     "output_type": "stream",
     "text": [
      "[9, 5, 3, 3, 9, 4, 3, 2, 7, 4, 2, 2, 3, 1, 2, 0, 0, 0, 0, 0]\n"
     ]
    }
   ],
   "source": [
    "print(list_with_results)"
   ]
  },
  {
   "cell_type": "code",
   "execution_count": 105,
   "metadata": {},
   "outputs": [],
   "source": [
    "path = \"C:/Users/123/Desktop/My_work/from_bigwin/testing_for_signal/\"\n",
    "list_with_files = []\n",
    "for root, directory, filename in os.walk(path):\n",
    "    for name in filename:\n",
    "        if \"Raw_Data\" in name:\n",
    "            ind = filename.index(name)\n",
    "            del(filename[ind])\n",
    "    list_with_files = filename[:]\n",
    "list_with_results = []\n",
    "for scan in list_with_files:\n",
    "    with open(os.path.join(path+scan)) as file:\n",
    "        table = pd.read_csv(file, sep='\\t')\n",
    "    list_with_results.append(length_of_signal(\"Siberian\", 0.6, \"max\"))"
   ]
  }
 ],
 "metadata": {
  "kernelspec": {
   "display_name": "Python 3",
   "language": "python",
   "name": "python3"
  },
  "language_info": {
   "codemirror_mode": {
    "name": "ipython",
    "version": 3
   },
   "file_extension": ".py",
   "mimetype": "text/x-python",
   "name": "python",
   "nbconvert_exporter": "python",
   "pygments_lexer": "ipython3",
   "version": "3.7.3"
  }
 },
 "nbformat": 4,
 "nbformat_minor": 4
}
